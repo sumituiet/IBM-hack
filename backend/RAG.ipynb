{
 "cells": [
  {
   "cell_type": "code",
   "execution_count": 1,
   "metadata": {},
   "outputs": [],
   "source": [
    "# Import necessary modules\n",
    "from llama_index.core import VectorStoreIndex, SimpleDirectoryReader\n",
    "from llama_index.vector_stores.chroma import ChromaVectorStore\n",
    "from llama_index.core import StorageContext\n",
    "from llama_index.embeddings.huggingface import HuggingFaceEmbedding\n",
    "from IPython.display import Markdown, display\n",
    "import chromadb\n",
    "import logging"
   ]
  },
  {
   "cell_type": "code",
   "execution_count": 2,
   "metadata": {},
   "outputs": [
    {
     "name": "stderr",
     "output_type": "stream",
     "text": [
      "INFO:sentence_transformers.SentenceTransformer:Load pretrained SentenceTransformer: BAAI/bge-base-en-v1.5\n",
      "DEBUG:urllib3.connectionpool:Starting new HTTPS connection (1): huggingface.co:443\n",
      "DEBUG:urllib3.connectionpool:https://huggingface.co:443 \"HEAD /BAAI/bge-base-en-v1.5/resolve/main/modules.json HTTP/11\" 200 0\n",
      "DEBUG:urllib3.connectionpool:https://huggingface.co:443 \"HEAD /BAAI/bge-base-en-v1.5/resolve/main/config_sentence_transformers.json HTTP/11\" 200 0\n",
      "DEBUG:urllib3.connectionpool:https://huggingface.co:443 \"HEAD /BAAI/bge-base-en-v1.5/resolve/main/README.md HTTP/11\" 200 0\n",
      "DEBUG:urllib3.connectionpool:https://huggingface.co:443 \"HEAD /BAAI/bge-base-en-v1.5/resolve/main/modules.json HTTP/11\" 200 0\n",
      "DEBUG:urllib3.connectionpool:https://huggingface.co:443 \"HEAD /BAAI/bge-base-en-v1.5/resolve/main/sentence_bert_config.json HTTP/11\" 200 0\n",
      "DEBUG:urllib3.connectionpool:https://huggingface.co:443 \"HEAD /BAAI/bge-base-en-v1.5/resolve/main/adapter_config.json HTTP/11\" 404 0\n",
      "DEBUG:urllib3.connectionpool:https://huggingface.co:443 \"HEAD /BAAI/bge-base-en-v1.5/resolve/main/config.json HTTP/11\" 200 0\n",
      "DEBUG:urllib3.connectionpool:https://huggingface.co:443 \"HEAD /BAAI/bge-base-en-v1.5/resolve/main/tokenizer_config.json HTTP/11\" 200 0\n",
      "DEBUG:urllib3.connectionpool:https://huggingface.co:443 \"GET /api/models/BAAI/bge-base-en-v1.5/revision/main HTTP/11\" 200 148812\n",
      "DEBUG:urllib3.connectionpool:https://huggingface.co:443 \"GET /api/models/BAAI/bge-base-en-v1.5 HTTP/11\" 200 148812\n",
      "INFO:sentence_transformers.SentenceTransformer:2 prompts are loaded, with the keys: ['query', 'text']\n",
      "DEBUG:llama_index.core.readers.file.base:> [SimpleDirectoryReader] Total files added: 14\n",
      "DEBUG:fsspec.local:open file: c:/Users/sumit/OneDrive/Desktop/IBM-hack/backend/dataset/asic.pdf\n",
      "DEBUG:fsspec.local:open file: c:/Users/sumit/OneDrive/Desktop/IBM-hack/backend/dataset/Banking _ ASIC_merged.pdf\n",
      "DEBUG:fsspec.local:open file: c:/Users/sumit/OneDrive/Desktop/IBM-hack/backend/dataset/culture-community-and-engagement-summary-document-published-14-august-2024.pdf\n",
      "DEBUG:fsspec.local:open file: c:/Users/sumit/OneDrive/Desktop/IBM-hack/backend/dataset/ind.pdf\n",
      "DEBUG:fsspec.local:open file: c:/Users/sumit/OneDrive/Desktop/IBM-hack/backend/dataset/init.txt\n",
      "DEBUG:fsspec.local:open file: c:/Users/sumit/OneDrive/Desktop/IBM-hack/backend/dataset/jobs_and_employment_types_Web_c4810e59-226e-482f-a427-e3f856e5e59a.pdf\n",
      "DEBUG:fsspec.local:open file: c:/Users/sumit/OneDrive/Desktop/IBM-hack/backend/dataset/link-your-mygov-account-to-the-ato-application-octet-stream-link-your-mygov-account-to-the-ato-txt.txt\n",
      "DEBUG:fsspec.local:open file: c:/Users/sumit/OneDrive/Desktop/IBM-hack/backend/dataset/national-financial-capability-strategy-2022.pdf\n",
      "INFO:chromadb.telemetry.product.posthog:Anonymized telemetry enabled. See                     https://docs.trychroma.com/telemetry for more information.\n",
      "DEBUG:chromadb.config:Starting component System\n",
      "DEBUG:chromadb.config:Starting component Posthog\n",
      "DEBUG:chromadb.config:Starting component OpenTelemetryClient\n",
      "DEBUG:chromadb.config:Starting component SqliteDB\n",
      "DEBUG:chromadb.config:Starting component SimpleQuotaEnforcer\n",
      "DEBUG:chromadb.config:Starting component SimpleRateLimitEnforcer\n",
      "DEBUG:chromadb.config:Starting component LocalSegmentManager\n",
      "DEBUG:chromadb.config:Starting component LocalExecutor\n",
      "DEBUG:chromadb.config:Starting component SegmentAPI\n",
      "DEBUG:chromadb.api.segment:Collection llama_index_test_collection already exists, returning existing collection.\n"
     ]
    }
   ],
   "source": [
    "# Enable debug logging\n",
    "logging.basicConfig(level=logging.DEBUG)\n",
    "\n",
    "# Define embedding function\n",
    "embed_model = HuggingFaceEmbedding(model_name=\"BAAI/bge-base-en-v1.5\")\n",
    "\n",
    "# Load documents\n",
    "documents = SimpleDirectoryReader(\"./dataset\").load_data()\n",
    "\n",
    "# Step 1: Initialize Chroma with PersistentClient and create collection\n",
    "db = chromadb.PersistentClient(path=\"./chroma_db\")\n",
    "chroma_collection = db.get_or_create_collection(\"llama_index_test_collection\")"
   ]
  },
  {
   "cell_type": "code",
   "execution_count": 3,
   "metadata": {},
   "outputs": [
    {
     "name": "stderr",
     "output_type": "stream",
     "text": [
      "DEBUG:llama_index.core.node_parser.node_utils:> Adding chunk: \n",
      "DEBUG:llama_index.core.node_parser.node_utils:> Adding chunk: \n",
      "DEBUG:llama_index.core.node_parser.node_utils:> Adding chunk: \n",
      "DEBUG:llama_index.core.node_parser.node_utils:> Adding chunk: \n",
      "DEBUG:llama_index.core.node_parser.node_utils:> Adding chunk: Title Assets; RBA Assets; Banks Assets; RFCs; M...\n",
      "DEBUG:llama_index.core.node_parser.node_utils:> Adding chunk: 136      \n",
      "1976-06-30 00:00:00 5.833      \n",
      "1976-...\n",
      "DEBUG:llama_index.core.node_parser.node_utils:> Adding chunk: 851  0.5\n",
      "1985-03-31 00:00:00 19.983  21.465 32....\n",
      "DEBUG:llama_index.core.node_parser.node_utils:> Adding chunk: 983 51.001 1.044\n",
      "1990-09-30 00:00:00 25.576 365...\n",
      "DEBUG:llama_index.core.node_parser.node_utils:> Adding chunk: 525 465.256 51.177 44.402 95.579 86.056 3.359\n",
      "1...\n",
      "DEBUG:llama_index.core.node_parser.node_utils:> Adding chunk: 912 2.352\n",
      "2000-06-30 00:00:00 55.273 765.268 63...\n",
      "DEBUG:llama_index.core.node_parser.node_utils:> Adding chunk: 487 1372.162 75.59 87.038 162.628 176.801 13.75...\n",
      "DEBUG:llama_index.core.node_parser.node_utils:> Adding chunk: 147 2651.899 67.537 105.778 173.315 204.515 11....\n",
      "DEBUG:llama_index.core.node_parser.node_utils:> Adding chunk: 459\n",
      "2014-09-30 00:00:00 142.097 3621.115 56.153...\n",
      "DEBUG:llama_index.core.node_parser.node_utils:> Adding chunk: 127 4456.055 30.344 185.106 215.45 184.651 9.07...\n",
      "DEBUG:llama_index.core.node_parser.node_utils:> Adding chunk: This statistical table brings together aggregat...\n",
      "DEBUG:llama_index.core.node_parser.node_utils:> Adding chunk: Banking\n",
      "ASIC regulates banks and financial serv...\n",
      "DEBUG:llama_index.core.node_parser.node_utils:> Adding chunk: Find out more about the ePayments Code.\n",
      "Errors ...\n",
      "DEBUG:llama_index.core.node_parser.node_utils:> Adding chunk: Banking and credit scams\n",
      "Last updated: 27/09/20...\n",
      "DEBUG:llama_index.core.node_parser.node_utils:> Adding chunk: Investing and financial advice\n",
      "Find out how ASI...\n",
      "DEBUG:llama_index.core.node_parser.node_utils:> Adding chunk: Explore our public Beta site\n",
      "The ASIC Professio...\n",
      "DEBUG:llama_index.core.node_parser.node_utils:> Adding chunk: Loans and credit cards\n",
      "ASIC licenses and regula...\n",
      "DEBUG:llama_index.core.node_parser.node_utils:> Adding chunk: Credit card providers are also not allowed to b...\n",
      "DEBUG:llama_index.core.node_parser.node_utils:> Adding chunk: Loans\n",
      "Loans of $2,000 or less\n",
      "Lenders have been...\n",
      "DEBUG:llama_index.core.node_parser.node_utils:> Adding chunk: Superannuation\n",
      "ASIC's role in superannuation\n",
      "AS...\n",
      "DEBUG:llama_index.core.node_parser.node_utils:> Adding chunk: Complaints\n",
      "If you have a complaint about a supe...\n",
      "DEBUG:llama_index.core.node_parser.node_utils:> Adding chunk: Financial Services Industry \n",
      "Workshop \n",
      "Summary ...\n",
      "DEBUG:llama_index.core.node_parser.node_utils:> Adding chunk: Summary of the Financial Services Industry Work...\n",
      "DEBUG:llama_index.core.node_parser.node_utils:> Adding chunk: Summary of the Financial Services Industry Work...\n",
      "DEBUG:llama_index.core.node_parser.node_utils:> Adding chunk: Summary of the Financial Services Industry Work...\n",
      "DEBUG:llama_index.core.node_parser.node_utils:> Adding chunk: Summary of the Financial Services Industry Work...\n",
      "DEBUG:llama_index.core.node_parser.node_utils:> Adding chunk: Summary of the Financial Services Industry Work...\n",
      "DEBUG:llama_index.core.node_parser.node_utils:> Adding chunk: Summary of the Financial Services Industry Work...\n",
      "DEBUG:llama_index.core.node_parser.node_utils:> Adding chunk: Summary of the Financial Services Industry Work...\n",
      "DEBUG:llama_index.core.node_parser.node_utils:> Adding chunk: Summary of the Financial Services Industry Work...\n",
      "DEBUG:llama_index.core.node_parser.node_utils:> Adding chunk: Summary of the Financial Services Industry Work...\n",
      "DEBUG:llama_index.core.node_parser.node_utils:> Adding chunk: Summary of the Financial Services Industry Work...\n",
      "DEBUG:llama_index.core.node_parser.node_utils:> Adding chunk: Summary of the Financial Services Industry Work...\n",
      "DEBUG:llama_index.core.node_parser.node_utils:> Adding chunk: Summary of the Financial Services Industry Work...\n",
      "DEBUG:llama_index.core.node_parser.node_utils:> Adding chunk: Summary of the Financial Services Industry Work...\n",
      "DEBUG:urllib3.connectionpool:Starting new HTTPS connection (1): us.i.posthog.com:443\n",
      "DEBUG:llama_index.core.node_parser.node_utils:> Adding chunk: Title Credit; Housing; Monthly growth Credit; H...\n",
      "DEBUG:llama_index.core.node_parser.node_utils:> Adding chunk: Non-financial Business; 12-month ended growth –...\n",
      "DEBUG:llama_index.core.node_parser.node_utils:> Adding chunk: 63870983158716                    1.47998076085...\n",
      "DEBUG:llama_index.core.node_parser.node_utils:> Adding chunk: 62611388612386 21.5526417986258     1.616233651...\n",
      "DEBUG:llama_index.core.node_parser.node_utils:> Adding chunk: 6421792591824     1.54148696714765 19.641119795...\n",
      "DEBUG:llama_index.core.node_parser.node_utils:> Adding chunk: 7855480625038     1.36937567208788 17.469558114...\n",
      "DEBUG:llama_index.core.node_parser.node_utils:> Adding chunk: 1268734197645     1.0090475068818 16.0750342153...\n",
      "DEBUG:llama_index.core.node_parser.node_utils:> Adding chunk: 3851936708036     1.56755644233368 12.558600579...\n",
      "DEBUG:llama_index.core.node_parser.node_utils:> Adding chunk: 8812225206149     1.2509906939415 13.2412562811...\n",
      "DEBUG:llama_index.core.node_parser.node_utils:> Adding chunk: 4651813935478     1.30178303626431 16.503177063...\n",
      "DEBUG:llama_index.core.node_parser.node_utils:> Adding chunk: 0045243793294     1.72224329302648 22.544312626...\n",
      "DEBUG:llama_index.core.node_parser.node_utils:> Adding chunk: 60330690002607     1.20346244635905 20.53809230...\n",
      "DEBUG:llama_index.core.node_parser.node_utils:> Adding chunk: 2220582681624     1.03891105903887 14.975464234...\n",
      "DEBUG:llama_index.core.node_parser.node_utils:> Adding chunk: 64464700773763     1.34814093224843 15.41028366...\n",
      "DEBUG:llama_index.core.node_parser.node_utils:> Adding chunk: 9181512849481     1.56876505743024 18.269552192...\n",
      "DEBUG:llama_index.core.node_parser.node_utils:> Adding chunk: 980313730505     1.48781675860228 19.4371365764...\n",
      "DEBUG:llama_index.core.node_parser.node_utils:> Adding chunk: 4416384704672     1.70119076400297 18.504882400...\n",
      "DEBUG:llama_index.core.node_parser.node_utils:> Adding chunk: 0003156720312     0.935660775457876 20.96236069...\n",
      "DEBUG:llama_index.core.node_parser.node_utils:> Adding chunk: 9226039846023     0.351354436653281 12.28948265...\n",
      "DEBUG:llama_index.core.node_parser.node_utils:> Adding chunk: 91256856405364     0.698569899653094 6.79813212...\n",
      "DEBUG:llama_index.core.node_parser.node_utils:> Adding chunk: 7777804598532     1.81924988945208 5.0819036759...\n",
      "DEBUG:llama_index.core.node_parser.node_utils:> Adding chunk: 1126109766415     0.189432794317824 2.722005296...\n",
      "DEBUG:llama_index.core.node_parser.node_utils:> Adding chunk: 0802048070671     1.42395967647575 5.3798809182...\n",
      "DEBUG:llama_index.core.node_parser.node_utils:> Adding chunk: 24694507955     1.36628500356355 13.02807324886...\n",
      "DEBUG:llama_index.core.node_parser.node_utils:> Adding chunk: 4930388940658     0.715519274285853 13.30869763...\n",
      "DEBUG:llama_index.core.node_parser.node_utils:> Adding chunk: 8882154407027     0.60304412673861 12.384590669...\n",
      "DEBUG:llama_index.core.node_parser.node_utils:> Adding chunk: 55131826469722     0.572026507028724 8.67886022...\n",
      "DEBUG:llama_index.core.node_parser.node_utils:> Adding chunk: 907977296995099 11.0828539560463 0.857841270742...\n",
      "DEBUG:llama_index.core.node_parser.node_utils:> Adding chunk: 40811441536472     0.0303615620630353 0.0566782...\n",
      "DEBUG:llama_index.core.node_parser.node_utils:> Adding chunk: 973585400914672 11.9776293786015 0.780471002990...\n",
      "DEBUG:llama_index.core.node_parser.node_utils:> Adding chunk: 97100157187394     0.0493473007674226 -0.553824...\n",
      "DEBUG:llama_index.core.node_parser.node_utils:> Adding chunk: 43577378480518 14.9744116451909 1.2651415670275...\n",
      "DEBUG:llama_index.core.node_parser.node_utils:> Adding chunk: 86271428743569     0.528427221438847 2.95975648...\n",
      "DEBUG:llama_index.core.node_parser.node_utils:> Adding chunk: 7085018881652 1.66703014720153 17.6500507236473...\n",
      "DEBUG:llama_index.core.node_parser.node_utils:> Adding chunk: 915225804188921     0.852036518719146 8.4308654...\n",
      "DEBUG:llama_index.core.node_parser.node_utils:> Adding chunk: 14674305585906 19.7364243040609 1.0285363253272...\n",
      "DEBUG:llama_index.core.node_parser.node_utils:> Adding chunk: 95271136175737     0.569692116445864 9.18491814...\n",
      "DEBUG:llama_index.core.node_parser.node_utils:> Adding chunk: 03823353622789 12.1743377102647 0.9472824359020...\n",
      "DEBUG:llama_index.core.node_parser.node_utils:> Adding chunk: 4282080543388     0.740445908091729 12.49649921...\n",
      "DEBUG:llama_index.core.node_parser.node_utils:> Adding chunk: 746668984907515 11.2741732244547 0.472207353205...\n",
      "DEBUG:llama_index.core.node_parser.node_utils:> Adding chunk: 32977659494472     1.13240720614782 10.33185726...\n",
      "DEBUG:llama_index.core.node_parser.node_utils:> Adding chunk: 926397748653869 12.4095861943706 0.392480102355...\n",
      "DEBUG:llama_index.core.node_parser.node_utils:> Adding chunk: 630394916826347 11.1217275859516     0.83713707...\n",
      "DEBUG:llama_index.core.node_parser.node_utils:> Adding chunk: 796864877034793 11.1254413113406 0.565598226801...\n",
      "DEBUG:llama_index.core.node_parser.node_utils:> Adding chunk: 04073915767516     0.962751304756935 10.8453665...\n",
      "DEBUG:llama_index.core.node_parser.node_utils:> Adding chunk: 41972705743348 13.66826691535 1.20969306203878 ...\n",
      "DEBUG:llama_index.core.node_parser.node_utils:> Adding chunk: 8336566141964     1.33578360207687 11.947001828...\n",
      "DEBUG:llama_index.core.node_parser.node_utils:> Adding chunk: 922702062461013 16.3522451009857 0.922369378419...\n",
      "DEBUG:llama_index.core.node_parser.node_utils:> Adding chunk: 19504152687173     0.996761883613246 11.5095910...\n",
      "DEBUG:llama_index.core.node_parser.node_utils:> Adding chunk: 20343686470632 12.6269564280689 1.3581954695068...\n",
      "DEBUG:llama_index.core.node_parser.node_utils:> Adding chunk: 18965447929074     0.565693880217026 9.02418065...\n",
      "DEBUG:llama_index.core.node_parser.node_utils:> Adding chunk: 0007823448421 0.994079430071039 18.070617853723...\n",
      "DEBUG:llama_index.core.node_parser.node_utils:> Adding chunk: 44910871576907     0.893598929097152 11.5018265...\n",
      "DEBUG:llama_index.core.node_parser.node_utils:> Adding chunk: 2756179620224 1.20371892151209 15.6650595083964...\n",
      "DEBUG:llama_index.core.node_parser.node_utils:> Adding chunk: 80683195174984 20.0225484027498 1.4826555723010...\n",
      "DEBUG:llama_index.core.node_parser.node_utils:> Adding chunk: 70163557606384 21.9482451075554 1.6327759847490...\n",
      "DEBUG:llama_index.core.node_parser.node_utils:> Adding chunk: 9082572311083 1.04506011157383 14.8365580652432...\n",
      "DEBUG:llama_index.core.node_parser.node_utils:> Adding chunk: 4799356896274 1.32907249998189 20.3511886157227...\n",
      "DEBUG:llama_index.core.node_parser.node_utils:> Adding chunk: 7622545842866   0.616080847866769 7.86585725977...\n",
      "DEBUG:llama_index.core.node_parser.node_utils:> Adding chunk: 162253266252 0.940131709048458 12.9226111204619...\n",
      "DEBUG:llama_index.core.node_parser.node_utils:> Adding chunk: 12527850840623 8.07621741215456 0.8430304176637...\n",
      "DEBUG:llama_index.core.node_parser.node_utils:> Adding chunk: 7305004058807 0.655865532006032 15.348798030515...\n",
      "DEBUG:llama_index.core.node_parser.node_utils:> Adding chunk: 6023601365752\n",
      "2006-11-30 00:00:00 0.83097542294...\n",
      "DEBUG:llama_index.core.node_parser.node_utils:> Adding chunk: 6108321873595 1.49900624101204 16.8360089868482...\n",
      "DEBUG:llama_index.core.node_parser.node_utils:> Adding chunk: 806694917543524 12.1007426511702 0.888127449803...\n",
      "DEBUG:llama_index.core.node_parser.node_utils:> Adding chunk: 05561137322792 15.5949813890714 1.2032558243227...\n",
      "DEBUG:llama_index.core.node_parser.node_utils:> Adding chunk: 573666165285843 11.0747226312715 0.486536982603...\n",
      "DEBUG:llama_index.core.node_parser.node_utils:> Adding chunk: 810436238048993 9.97588554801921   1.4065615967...\n",
      "DEBUG:llama_index.core.node_parser.node_utils:> Adding chunk: 04878513431318 -0.0295924287193259 3.5618784018...\n",
      "DEBUG:llama_index.core.node_parser.node_utils:> Adding chunk: 0934142175640744 3.32697597206797   0.801968913...\n",
      "DEBUG:llama_index.core.node_parser.node_utils:> Adding chunk: 33789319638068 0.780004447887706 4.227303515444...\n",
      "DEBUG:llama_index.core.node_parser.node_utils:> Adding chunk: 50147619687316 0.408530100607223 2.131840259723...\n",
      "DEBUG:llama_index.core.node_parser.node_utils:> Adding chunk: 55557796236603 7.66819331134781 0.7496478368903...\n",
      "DEBUG:llama_index.core.node_parser.node_utils:> Adding chunk: 52424082156399 0.304108772016519 3.358072301240...\n",
      "DEBUG:llama_index.core.node_parser.node_utils:> Adding chunk: 1540412672886 0.400364218025402 6.1739975176178...\n",
      "DEBUG:llama_index.core.node_parser.node_utils:> Adding chunk: 47165719777486 3.28332713860821   0.84090577470...\n",
      "DEBUG:llama_index.core.node_parser.node_utils:> Adding chunk: 49796959520134 0.489529378569856 4.854421491977...\n",
      "DEBUG:llama_index.core.node_parser.node_utils:> Adding chunk: 39467024210001   0.642942569790321 9.3018790254...\n",
      "DEBUG:llama_index.core.node_parser.node_utils:> Adding chunk: 496172066225654 5.44472116989685 -0.16198545904...\n",
      "DEBUG:llama_index.core.node_parser.node_utils:> Adding chunk: 32339721539621   0.739217289988829 6.9069284210...\n",
      "DEBUG:llama_index.core.node_parser.node_utils:> Adding chunk: 1021116404947 -0.0946530901650817 0.77592437384...\n",
      "DEBUG:llama_index.core.node_parser.node_utils:> Adding chunk: 83315658198937   0.611513438495166 6.6985703279...\n",
      "DEBUG:llama_index.core.node_parser.node_utils:> Adding chunk: 790616317350313 8.71337314332467 -0.14220812960...\n",
      "DEBUG:llama_index.core.node_parser.node_utils:> Adding chunk: 38605252455018   0.686082716587251 8.0733130420...\n",
      "DEBUG:llama_index.core.node_parser.node_utils:> Adding chunk: 812691092134997 10.4846850398786 -0.12689635710...\n",
      "DEBUG:llama_index.core.node_parser.node_utils:> Adding chunk: 95900455037514   0.497315130337014 6.7828368735...\n",
      "DEBUG:llama_index.core.node_parser.node_utils:> Adding chunk: 20294487327932 0.0314987655836347 -0.0302579279...\n",
      "DEBUG:llama_index.core.node_parser.node_utils:> Adding chunk: 648985035115615 6.08412522774296 0.696834815755...\n",
      "DEBUG:llama_index.core.node_parser.node_utils:> Adding chunk: 00998118597728137 -0.79173116098724 0.060517883...\n",
      "DEBUG:llama_index.core.node_parser.node_utils:> Adding chunk: 963225612529442 6.98902110423904 1.023413140342...\n",
      "DEBUG:llama_index.core.node_parser.node_utils:> Adding chunk: 05981241484426 0.0564210675432406 -0.9002608960...\n",
      "DEBUG:llama_index.core.node_parser.node_utils:> Adding chunk: 34534262957339   0.382343763479469 6.8135751237...\n",
      "DEBUG:llama_index.core.node_parser.node_utils:> Adding chunk: 74389259183026 -0.229650304560963 -1.1509123341...\n",
      "DEBUG:llama_index.core.node_parser.node_utils:> Adding chunk: 191407149225682 1.81257475051115 0.159733670497...\n",
      "DEBUG:llama_index.core.node_parser.node_utils:> Adding chunk: 14066922494371 -0.510037277384583 -1.7688641029...\n",
      "DEBUG:llama_index.core.node_parser.node_utils:> Adding chunk: 605914315601979 3.8789125537173 0.6693895383944...\n",
      "DEBUG:llama_index.core.node_parser.node_utils:> Adding chunk: 35347647324204 2.41654248048189   0.55250016156...\n",
      "DEBUG:llama_index.core.node_parser.node_utils:> Adding chunk: 71295915305582 -5.03521266652032 0.359619246725...\n",
      "DEBUG:llama_index.core.node_parser.node_utils:> Adding chunk: 0893270369209631 -0.477775808735515 -0.68298372...\n",
      "DEBUG:llama_index.core.node_parser.node_utils:> Adding chunk: 596275992120553 12.275664713089 0.5742313675905...\n",
      "DEBUG:llama_index.core.node_parser.node_utils:> Adding chunk: 491525760025397 0.223049504594243 -10.752081117...\n",
      "DEBUG:llama_index.core.node_parser.node_utils:> Adding chunk: 87931879546845 7.88300832113865 0.9088960545291...\n",
      "DEBUG:llama_index.core.node_parser.node_utils:> Adding chunk: 344872147600711 -3.68589785020197 1.24330501947...\n",
      "DEBUG:llama_index.core.node_parser.node_utils:> Adding chunk: 600548365572948 9.50700790285583 0.572257075080...\n",
      "DEBUG:llama_index.core.node_parser.node_utils:> Adding chunk: 224580087756308 -0.227666625040385 1.3667781863...\n",
      "DEBUG:llama_index.core.node_parser.node_utils:> Adding chunk: 630839583135582 7.05251904859661 0.684883033987...\n",
      "DEBUG:llama_index.core.node_parser.node_utils:> Adding chunk: 159789401877177 0.442409453395086 0.05724373380...\n",
      "DEBUG:llama_index.core.node_parser.node_utils:> Adding chunk: 300605896596238 4.5561342025315 0.2547394816020...\n",
      "DEBUG:llama_index.core.node_parser.node_utils:> Adding chunk: 345703210253291 3.16982058428685 0.668413673270...\n",
      "DEBUG:llama_index.core.node_parser.node_utils:> Adding chunk: 572357231748953 5.9586641223774 0.5710851975114...\n",
      "DEBUG:llama_index.core.node_parser.node_utils:> Adding chunk: Financial aggregates are compiled by the RBA us...\n",
      "DEBUG:llama_index.core.node_parser.node_utils:> Adding chunk: \n",
      "DEBUG:llama_index.core.node_parser.node_utils:> Adding chunk: \n",
      "DEBUG:llama_index.core.node_parser.node_utils:> Adding chunk: \n",
      "DEBUG:llama_index.core.node_parser.node_utils:> Adding chunk: Title Cash Rate Target Interbank Overnight Cash...\n",
      "DEBUG:llama_index.core.node_parser.node_utils:> Adding chunk: 35       \n",
      "1970-10-31 00:00:00        6.4       ...\n",
      "DEBUG:llama_index.core.node_parser.node_utils:> Adding chunk: 75       \n",
      "1974-06-30 00:00:00        18.8      ...\n",
      "DEBUG:llama_index.core.node_parser.node_utils:> Adding chunk: 469      10.43       \n",
      "1977-10-31 00:00:00  8.85...\n",
      "DEBUG:llama_index.core.node_parser.node_utils:> Adding chunk: 417      12.33       \n",
      "1980-09-30 00:00:00  11.2...\n",
      "DEBUG:llama_index.core.node_parser.node_utils:> Adding chunk: 345      12.8       \n",
      "1983-08-31 00:00:00  10.66...\n",
      "DEBUG:llama_index.core.node_parser.node_utils:> Adding chunk: 435      14.68       \n",
      "1986-07-31 00:00:00  14.7...\n",
      "DEBUG:llama_index.core.node_parser.node_utils:> Adding chunk: 291      17.52       \n",
      "1989-06-30 00:00:00  17.7...\n",
      "DEBUG:llama_index.core.node_parser.node_utils:> Adding chunk: 751      7.45       \n",
      "1992-02-29 00:00:00 7.5 7....\n",
      "DEBUG:llama_index.core.node_parser.node_utils:> Adding chunk: 81 4.83      \n",
      "1994-02-28 00:00:00 4.75 4.711   ...\n",
      "DEBUG:llama_index.core.node_parser.node_utils:> Adding chunk: 5 7.51     7.53 7.58 7.71    7.44391304347826 7...\n",
      "DEBUG:llama_index.core.node_parser.node_utils:> Adding chunk: 003     6.86 6.7 6.64    6.82347826086957 6.636...\n",
      "DEBUG:llama_index.core.node_parser.node_utils:> Adding chunk: 96380952380952 4.97285714285714\n",
      "1998-01-31 00:0...\n",
      "DEBUG:llama_index.core.node_parser.node_utils:> Adding chunk: 74     4.81 4.81 4.83    4.67217391304348 4.665...\n",
      "DEBUG:llama_index.core.node_parser.node_utils:> Adding chunk: 97826086956522 5.98     6.14 6.31 6.5    5.8804...\n",
      "DEBUG:llama_index.core.node_parser.node_utils:> Adding chunk: 05 5.04 5.07 4.98 4.97 5.01 4.91636363636364 4....\n",
      "DEBUG:llama_index.core.node_parser.node_utils:> Adding chunk: 75 4.75     4.89 4.96 4.99 4.79 4.85 4.9   \n",
      "200...\n",
      "DEBUG:llama_index.core.node_parser.node_utils:> Adding chunk: 45 5.55 5.63 5.3 5.39 5.49   \n",
      "2004-02-29 00:00:...\n",
      "DEBUG:llama_index.core.node_parser.node_utils:> Adding chunk: 69 5.51 5.54 5.56   \n",
      "2005-07-31 00:00:00 5.5 5....\n",
      "DEBUG:llama_index.core.node_parser.node_utils:> Adding chunk: 37 6.47 6.26 6.3 6.38   \n",
      "2006-12-31 00:00:00 6....\n",
      "DEBUG:llama_index.core.node_parser.node_utils:> Adding chunk: 24971226147769 7.25     7.63 7.84 7.99 7.28 7.3...\n",
      "DEBUG:llama_index.core.node_parser.node_utils:> Adding chunk: 125\n",
      "2009-07-31 00:00:00 3 3     3.11 3.14 3.26 ...\n",
      "DEBUG:llama_index.core.node_parser.node_utils:> Adding chunk: 52 4.555 4.5975 4.5425 4.5775 4.61\n",
      "2010-08-31 0...\n",
      "DEBUG:llama_index.core.node_parser.node_utils:> Adding chunk: 75 4.75     4.8075 4.81 4.635 4.6725 4.4075 4.1...\n",
      "DEBUG:llama_index.core.node_parser.node_utils:> Adding chunk: 245 3.0675 \n",
      "2012-11-30 00:00:00 3.25 3.25     3...\n",
      "DEBUG:llama_index.core.node_parser.node_utils:> Adding chunk: 5 2.5 2.5 2.5 112443  2.61 2.62 2.64 2.49 2.48 ...\n",
      "DEBUG:llama_index.core.node_parser.node_utils:> Adding chunk: 25 2.25 2.25 2.25 112038  2.27 2.3 2.33 2.2 2.0...\n",
      "DEBUG:llama_index.core.node_parser.node_utils:> Adding chunk: 73 1.66 1.61   \n",
      "2016-07-31 00:00:00 1.75 1.75 1...\n",
      "DEBUG:llama_index.core.node_parser.node_utils:> Adding chunk: 6 1.7 1.85 1.5 1.5 1.51   \n",
      "2017-09-30 00:00:00 ...\n",
      "DEBUG:llama_index.core.node_parser.node_utils:> Adding chunk: 5 1.5 1.5 89612 756 1.85 1.93 2.09 1.5 1.5 1.5 ...\n",
      "DEBUG:llama_index.core.node_parser.node_utils:> Adding chunk: 75 0.75 0.75 89948 807 0.85 0.9 0.99 0.75 0.69 ...\n",
      "DEBUG:llama_index.core.node_parser.node_utils:> Adding chunk: 1 0.03 0.03 0.03 13055 113 0.01 0.01 0.02 0.03 ...\n",
      "DEBUG:llama_index.core.node_parser.node_utils:> Adding chunk: 1 0.06 0.07 0.06 12300 120 0.08 0.41 1.01 0.11 ...\n",
      "DEBUG:llama_index.core.node_parser.node_utils:> Adding chunk: 07 29127 249 4.1 4.3 4.7      \n",
      "2023-08-31 00:00...\n",
      "DEBUG:llama_index.core.node_parser.node_utils:> Adding chunk: The 'Target cash rate' is set by the Reserve Ba...\n",
      "DEBUG:llama_index.core.node_parser.node_utils:> Adding chunk: Print whole section\n",
      "Jobs and employment types\n",
      "W...\n",
      "DEBUG:llama_index.core.node_parser.node_utils:> Adding chunk: QC27102\n",
      "On this page\n",
      "Employee rights and obliga...\n",
      "DEBUG:llama_index.core.node_parser.node_utils:> Adding chunk: At the end of the income year, you need to lodg...\n",
      "DEBUG:llama_index.core.node_parser.node_utils:> Adding chunk: carer responsibilities or a disability, you sho...\n",
      "DEBUG:llama_index.core.node_parser.node_utils:> Adding chunk: Student Start-up Loan \u0000SSL\u0000\n",
      "Australian Apprenti...\n",
      "DEBUG:llama_index.core.node_parser.node_utils:> Adding chunk: While you are working\n",
      "While you are working you...\n",
      "DEBUG:llama_index.core.node_parser.node_utils:> Adding chunk: QC43436\n",
      "On this page\n",
      "What is the tax-free thres...\n",
      "DEBUG:llama_index.core.node_parser.node_utils:> Adding chunk: The tax-free threshold is the amount of income ...\n",
      "DEBUG:llama_index.core.node_parser.node_utils:> Adding chunk: you earn in Australia. Find out about the Tax-f...\n",
      "DEBUG:llama_index.core.node_parser.node_utils:> Adding chunk: When to claim the tax-free threshold\n",
      "If you hav...\n",
      "DEBUG:llama_index.core.node_parser.node_utils:> Adding chunk: January Hamid keeps working at his part time jo...\n",
      "DEBUG:llama_index.core.node_parser.node_utils:> Adding chunk: If Jeff doesn't claim the tax-free threshold th...\n",
      "DEBUG:llama_index.core.node_parser.node_utils:> Adding chunk: The tax refund of $1,350 arises because too muc...\n",
      "DEBUG:llama_index.core.node_parser.node_utils:> Adding chunk: At the end of the income year, the total tax wi...\n",
      "DEBUG:llama_index.core.node_parser.node_utils:> Adding chunk: On this page\n",
      "What you need to do\n",
      "Declare your t...\n",
      "DEBUG:llama_index.core.node_parser.node_utils:> Adding chunk: You may share tips between employees that come ...\n",
      "DEBUG:llama_index.core.node_parser.node_utils:> Adding chunk: you will need to create a myGov account and lin...\n",
      "DEBUG:llama_index.core.node_parser.node_utils:> Adding chunk: You will need to speak to your employer if afte...\n",
      "DEBUG:llama_index.core.node_parser.node_utils:> Adding chunk: Employers have until 14 July to finalise their ...\n",
      "DEBUG:llama_index.core.node_parser.node_utils:> Adding chunk: Keeping your records\n",
      "If your income statement i...\n",
      "DEBUG:llama_index.core.node_parser.node_utils:> Adding chunk: If you have more than one employer you may have...\n",
      "DEBUG:llama_index.core.node_parser.node_utils:> Adding chunk: Most employers now report your income and pay y...\n",
      "DEBUG:llama_index.core.node_parser.node_utils:> Adding chunk: If you find your payment summary\n",
      "If you find yo...\n",
      "DEBUG:llama_index.core.node_parser.node_utils:> Adding chunk: Reportable employer super contributions should ...\n",
      "DEBUG:llama_index.core.node_parser.node_utils:> Adding chunk: QC23296\n",
      "On this page\n",
      "Understanding withholding ...\n",
      "DEBUG:llama_index.core.node_parser.node_utils:> Adding chunk: Keith estimates his interest will be $1,000. So...\n",
      "DEBUG:llama_index.core.node_parser.node_utils:> Adding chunk: Example: downward variation for allowance\n",
      "Sue i...\n",
      "DEBUG:llama_index.core.node_parser.node_utils:> Adding chunk: lodge all required tax returns and activity sta...\n",
      "DEBUG:llama_index.core.node_parser.node_utils:> Adding chunk: allowance and reasonably expect that your expen...\n",
      "DEBUG:llama_index.core.node_parser.node_utils:> Adding chunk: entitlements like sick leave or rostered days o...\n",
      "DEBUG:llama_index.core.node_parser.node_utils:> Adding chunk: On this page\n",
      "What is an ETP?\n",
      "Tax treatment of a...\n",
      "DEBUG:llama_index.core.node_parser.node_utils:> Adding chunk: foreign termination payments.\n",
      "You may also pay ...\n",
      "DEBUG:llama_index.core.node_parser.node_utils:> Adding chunk: QC27127\n",
      "On this page\n",
      "What you will receive\n",
      "What...\n",
      "DEBUG:llama_index.core.node_parser.node_utils:> Adding chunk: If the code is O or P, your ETP is subject to t...\n",
      "DEBUG:llama_index.core.node_parser.node_utils:> Adding chunk: Lump sum E \u0000 payments that relate to earlier in...\n",
      "DEBUG:llama_index.core.node_parser.node_utils:> Adding chunk: Tax treatment of an ETP\n",
      "ETPs are generally full...\n",
      "DEBUG:llama_index.core.node_parser.node_utils:> Adding chunk: The taxable component of these payments will be...\n",
      "DEBUG:llama_index.core.node_parser.node_utils:> Adding chunk: On this page\n",
      "When the whole-of-income cap appli...\n",
      "DEBUG:llama_index.core.node_parser.node_utils:> Adding chunk: When working out the tax on Percival's ETP, his...\n",
      "DEBUG:llama_index.core.node_parser.node_utils:> Adding chunk: equals $5,000 whole-of-income cap.\n",
      "This means o...\n",
      "DEBUG:llama_index.core.node_parser.node_utils:> Adding chunk: To receive concessional tax treatment an employ...\n",
      "DEBUG:llama_index.core.node_parser.node_utils:> Adding chunk: You need to provide enough information for us t...\n",
      "DEBUG:llama_index.core.node_parser.node_utils:> Adding chunk: A death benefit employment termination payment ...\n",
      "DEBUG:llama_index.core.node_parser.node_utils:> Adding chunk: and personal care of the other\n",
      "a close personal...\n",
      "DEBUG:llama_index.core.node_parser.node_utils:> Adding chunk: The trustee of the deceased estate will receive...\n",
      "DEBUG:llama_index.core.node_parser.node_utils:> Adding chunk: The tax-free amount of a genuine redundancy is ...\n",
      "DEBUG:llama_index.core.node_parser.node_utils:> Adding chunk: The tax-free limit is a whole dollar amount plu...\n",
      "DEBUG:llama_index.core.node_parser.node_utils:> Adding chunk: What is salary sacrificing?\n",
      "Salary sacrificing ...\n",
      "DEBUG:llama_index.core.node_parser.node_utils:> Adding chunk: The GST-exclusive value of the car expenses is ...\n",
      "DEBUG:llama_index.core.node_parser.node_utils:> Adding chunk: Exempt benefits\n",
      "Your employer won't have to pay...\n",
      "DEBUG:llama_index.core.node_parser.node_utils:> Adding chunk: Entering an effective salary sacrifice\n",
      "arrangem...\n",
      "DEBUG:llama_index.core.node_parser.node_utils:> Adding chunk: salary sacrifice arrangement you should conside...\n",
      "DEBUG:llama_index.core.node_parser.node_utils:> Adding chunk: A workplace giving program is a simple way to r...\n",
      "DEBUG:llama_index.core.node_parser.node_utils:> Adding chunk: Your employer's responsibilities\n",
      "Your employer ...\n",
      "DEBUG:llama_index.core.node_parser.node_utils:> Adding chunk: employers contribute to the funds at some point...\n",
      "DEBUG:llama_index.core.node_parser.node_utils:> Adding chunk: CR 2010/40 Income tax: payments from Redundancy...\n",
      "DEBUG:llama_index.core.node_parser.node_utils:> Adding chunk: You aren't taxed on your RFBA. It is included i...\n",
      "DEBUG:llama_index.core.node_parser.node_utils:> Adding chunk: On this page\n",
      "How the reportable fringe benefits...\n",
      "DEBUG:llama_index.core.node_parser.node_utils:> Adding chunk: your entitlement to a tax offset for\n",
      "your eligi...\n",
      "DEBUG:llama_index.core.node_parser.node_utils:> Adding chunk: $60,000 \u0000 $17,000 \u0000 $77,000\n",
      "This means Olivia w...\n",
      "DEBUG:llama_index.core.node_parser.node_utils:> Adding chunk: QC58436\n",
      "On this page\n",
      "What you need to know\n",
      "Chec...\n",
      "DEBUG:llama_index.core.node_parser.node_utils:> Adding chunk: may also have to pay the costs incurred by some...\n",
      "DEBUG:llama_index.core.node_parser.node_utils:> Adding chunk: The easiest way to declare your foreign income ...\n",
      "DEBUG:llama_index.core.node_parser.node_utils:> Adding chunk: for an international organisation\n",
      "as a member o...\n",
      "DEBUG:llama_index.core.node_parser.node_utils:> Adding chunk: TD 2012/8 Income tax: what types of temporary a...\n",
      "DEBUG:llama_index.core.node_parser.node_utils:> Adding chunk: On this page\n",
      "Check if you’re an employee or ind...\n",
      "DEBUG:llama_index.core.node_parser.node_utils:> Adding chunk: usually have work hours set by an agreement or ...\n",
      "DEBUG:llama_index.core.node_parser.node_utils:> Adding chunk: could be operating your own business independen...\n",
      "DEBUG:llama_index.core.node_parser.node_utils:> Adding chunk: Y o u :\n",
      "pu t  m o n e y  a s i d e  t o  c o v ...\n",
      "DEBUG:llama_index.core.node_parser.node_utils:> Adding chunk: Y o u :\n",
      "pr o v i d e  y o u r  t a x  f i l e\n",
      "n...\n",
      "DEBUG:llama_index.core.node_parser.node_utils:> Adding chunk: QC43440\n",
      "On this page\n",
      "You must have an ABN to wo...\n",
      "DEBUG:llama_index.core.node_parser.node_utils:> Adding chunk: Some businesses advertise jobs as 'must have AB...\n",
      "DEBUG:llama_index.core.node_parser.node_utils:> Adding chunk: Just because everyone in an industry treats the...\n",
      "DEBUG:llama_index.core.node_parser.node_utils:> Adding chunk: What you can do\n",
      "Some businesses and business ow...\n",
      "DEBUG:llama_index.core.node_parser.node_utils:> Adding chunk: QC43441\n",
      "On this page\n",
      "Multiple employers and tax...\n",
      "DEBUG:llama_index.core.node_parser.node_utils:> Adding chunk: Claiming the tax-free threshold from multiple\n",
      "e...\n",
      "DEBUG:llama_index.core.node_parser.node_utils:> Adding chunk: expectations, your repayment rate may be higher...\n",
      "DEBUG:llama_index.core.node_parser.node_utils:> Adding chunk: Example: prepaying tax on sole trader income\n",
      "Sh...\n",
      "DEBUG:llama_index.core.node_parser.node_utils:> Adding chunk: Example: study and training support loan\n",
      "Tony w...\n",
      "DEBUG:llama_index.core.node_parser.node_utils:> Adding chunk: your taxable income may be higher\n",
      "the amount wi...\n",
      "DEBUG:llama_index.core.node_parser.node_utils:> Adding chunk: ETFs provide investors with a standard distribu...\n",
      "DEBUG:llama_index.core.node_parser.node_utils:> Adding chunk: the Australian Defence Force\n",
      "welfare and disast...\n",
      "DEBUG:llama_index.core.node_parser.node_utils:> Adding chunk: tax withheld calculator\n",
      "how much tax should I p...\n",
      "DEBUG:llama_index.core.node_parser.node_utils:> Adding chunk: Access ATO online services\n",
      "You can manage your ...\n",
      "DEBUG:llama_index.core.node_parser.node_utils:> Adding chunk: withheld less than you owe, you will receive a ...\n",
      "DEBUG:llama_index.core.node_parser.node_utils:> Adding chunk: Study and training support loans\n",
      "If you are ent...\n",
      "DEBUG:llama_index.core.node_parser.node_utils:> Adding chunk: Our commitment to you\n",
      "Help and support we provi...\n",
      "DEBUG:llama_index.core.node_parser.node_utils:> Adding chunk: We are committed to providing you with accurate...\n",
      "DEBUG:llama_index.core.node_parser.node_utils:> Adding chunk: Link your myGov account to the ATO\n",
      " \n",
      "If you'r...\n",
      "DEBUG:llama_index.core.node_parser.node_utils:> Adding chunk: \n",
      "DEBUG:llama_index.core.node_parser.node_utils:> Adding chunk: © Commonwealth of Australia 2022 \n",
      "This publicat...\n",
      "DEBUG:llama_index.core.node_parser.node_utils:> Adding chunk: Contents \n",
      "Foreword................................\n",
      "DEBUG:llama_index.core.node_parser.node_utils:> Adding chunk: Foreword \n",
      "Australians who are financially capab...\n",
      "DEBUG:llama_index.core.node_parser.node_utils:> Adding chunk: | 1 \n",
      "Why Australia needs a new Strategy \n",
      "The ec...\n",
      "DEBUG:llama_index.core.node_parser.node_utils:> Adding chunk: | 2 \n",
      "What is financial capability? \n",
      "Financial c...\n",
      "DEBUG:llama_index.core.node_parser.node_utils:> Adding chunk: What is financial capability? \n",
      " | 3 \n",
      "(48 per ce...\n",
      "DEBUG:llama_index.core.node_parser.node_utils:> Adding chunk: What is financial capability? \n",
      " | 4 \n",
      "For exampl...\n",
      "DEBUG:llama_index.core.node_parser.node_utils:> Adding chunk: National Financial Capability Survey 2021 – a S...\n",
      "DEBUG:llama_index.core.node_parser.node_utils:> Adding chunk: | 6 \n",
      "Aims of the Strategy \n",
      "Vision for Australia...\n",
      "DEBUG:llama_index.core.node_parser.node_utils:> Adding chunk: Aims of the Strategy \n",
      " | 7 \n",
      "Objectives  \n",
      "Settin...\n",
      "DEBUG:llama_index.core.node_parser.node_utils:> Adding chunk: | 8 \n",
      "Role for Government in delivering financia...\n",
      "DEBUG:llama_index.core.node_parser.node_utils:> Adding chunk: | 9 \n",
      " \n",
      "Figure 2: Treasury 202 2, Existing Gover...\n",
      "DEBUG:llama_index.core.node_parser.node_utils:> Adding chunk: Role for Government in delivering financial cap...\n",
      "DEBUG:llama_index.core.node_parser.node_utils:> Adding chunk: Role for Government in delivering financial cap...\n",
      "DEBUG:llama_index.core.node_parser.node_utils:> Adding chunk: Role for Government in delivering financial cap...\n",
      "DEBUG:llama_index.core.node_parser.node_utils:> Adding chunk: Role for Government in delivering financial cap...\n",
      "DEBUG:llama_index.core.node_parser.node_utils:> Adding chunk: | 14 \n",
      "Working with the financial capability com...\n",
      "DEBUG:llama_index.core.node_parser.node_utils:> Adding chunk: Working with the financial capability community...\n",
      "DEBUG:llama_index.core.node_parser.node_utils:> Adding chunk: | 16 \n",
      "Building the evidence base \n",
      "There is a wi...\n",
      "DEBUG:llama_index.core.node_parser.node_utils:> Adding chunk: Building the evidence base \n",
      " | 17 \n",
      "occurring. F...\n",
      "DEBUG:llama_index.core.node_parser.node_utils:> Adding chunk: | 18 \n",
      "Implementation \n",
      "There are four target coh...\n",
      "DEBUG:llama_index.core.node_parser.node_utils:> Adding chunk: Implementation \n",
      " | 19 \n",
      "This aims to complement ...\n",
      "DEBUG:llama_index.core.node_parser.node_utils:> Adding chunk: | 20 \n",
      "Attachment – The importance of financial ...\n",
      "DEBUG:llama_index.core.node_parser.node_utils:> Adding chunk: Attachment – The importance of financial capabi...\n",
      "DEBUG:llama_index.core.node_parser.node_utils:> Adding chunk: Attachment – The importance of financial capabi...\n",
      "DEBUG:llama_index.core.node_parser.node_utils:> Adding chunk: Attachment – The importance of financial capabi...\n",
      "DEBUG:llama_index.core.node_parser.node_utils:> Adding chunk: | 24 \n",
      "Attachment – Financial capability and dig...\n",
      "DEBUG:llama_index.core.node_parser.node_utils:> Adding chunk: Attachment – Financial capability and digitalis...\n",
      "DEBUG:llama_index.core.node_parser.node_utils:> Adding chunk: Title Notes on issue Exchange settlement balanc...\n",
      "DEBUG:llama_index.core.node_parser.node_utils:> Adding chunk: 00:00:00 57829 987 1447 18916 994 16 5068 10041...\n",
      "DEBUG:llama_index.core.node_parser.node_utils:> Adding chunk: 10213 7433 2542 129750 62724 64404 2622 129750\n",
      "...\n",
      "DEBUG:llama_index.core.node_parser.node_utils:> Adding chunk: 56448 72435 1175 130058\n",
      "2014-03-12 00:00:00 601...\n",
      "DEBUG:llama_index.core.node_parser.node_utils:> Adding chunk: 00:00:00 60809 21576 794 37956 30 17 6072 17157...\n",
      "DEBUG:llama_index.core.node_parser.node_utils:> Adding chunk: 755 22856 764 20 5999 9155 11199 135087 58897 7...\n",
      "DEBUG:llama_index.core.node_parser.node_utils:> Adding chunk: 8093 11395 11199 136338 62326 72849 1163 136338...\n",
      "DEBUG:llama_index.core.node_parser.node_utils:> Adding chunk: 12500 11199 150268 73387 75622 1259 150268\n",
      "2015...\n",
      "DEBUG:llama_index.core.node_parser.node_utils:> Adding chunk: 155519 71532 82468 1519 155519\n",
      "2015-08-26 00:00...\n",
      "DEBUG:llama_index.core.node_parser.node_utils:> Adding chunk: 00:00:00 70162 24199 872 29740 575 12 7434 1404...\n",
      "DEBUG:llama_index.core.node_parser.node_utils:> Adding chunk: 70581 24219 3954 32888 466 12 8139 12529 12769 ...\n",
      "DEBUG:llama_index.core.node_parser.node_utils:> Adding chunk: 70240 24947 4612 30061 77 14 7666 14402 12769 1...\n",
      "DEBUG:llama_index.core.node_parser.node_utils:> Adding chunk: 71839 24185 4888 28904 224 14 4312 7759 14159 1...\n",
      "DEBUG:llama_index.core.node_parser.node_utils:> Adding chunk: 74007 28332 5237 31526 426 12 6374 7969 14159 1...\n",
      "DEBUG:llama_index.core.node_parser.node_utils:> Adding chunk: 73583 27742 5056 49406 293 10 5467 9943 14159 1...\n",
      "DEBUG:llama_index.core.node_parser.node_utils:> Adding chunk: 74193 27409 5333 42454 203 8 4996 6983 14159 17...\n",
      "DEBUG:llama_index.core.node_parser.node_utils:> Adding chunk: 77367 27747 4411 42285 427 2 8346 9652 14159 18...\n",
      "DEBUG:llama_index.core.node_parser.node_utils:> Adding chunk: 76386 30323 4043 42895 327 1 4612 10622 14159 1...\n",
      "DEBUG:llama_index.core.node_parser.node_utils:> Adding chunk: 75636 29041 3691 34113 1054 1 3801 11713 14159 ...\n",
      "DEBUG:llama_index.core.node_parser.node_utils:> Adding chunk: 79130 27310 3903 19757 323 1 3293 13655 14159 1...\n",
      "DEBUG:llama_index.core.node_parser.node_utils:> Adding chunk: 80582 29713 3515 20091 254 1 4526 14412 14159 1...\n",
      "DEBUG:llama_index.core.node_parser.node_utils:> Adding chunk: 79673 28023 2382 30881 409 0 6203 16738 14159 1...\n",
      "DEBUG:llama_index.core.node_parser.node_utils:> Adding chunk: 80660 29343 1932 26996 417 0 3183 18689 14159 1...\n",
      "DEBUG:llama_index.core.node_parser.node_utils:> Adding chunk: 83712 28587 2122 22192 775 2 5475 16921 14159 1...\n",
      "DEBUG:llama_index.core.node_parser.node_utils:> Adding chunk: 85360 102549 2057 34488 454 0 13608 25005 14159...\n",
      "DEBUG:llama_index.core.node_parser.node_utils:> Adding chunk: 91028 92952 2449 60915 1147 0 1909 17959 14159 ...\n",
      "DEBUG:llama_index.core.node_parser.node_utils:> Adding chunk: 96405 67708 1660 95298 532 0 3883 16146 14159 2...\n",
      "DEBUG:llama_index.core.node_parser.node_utils:> Adding chunk: 97687 165823 7147 46500 643 0 3640 11237 14159 ...\n",
      "DEBUG:llama_index.core.node_parser.node_utils:> Adding chunk: 95744 251397 14131 60765 318 0 4239 10089 14159...\n",
      "DEBUG:llama_index.core.node_parser.node_utils:> Adding chunk: 97740 378026 19707 50299 1007 0 3887 15047 1415...\n",
      "DEBUG:llama_index.core.node_parser.node_utils:> Adding chunk: 102662 422392 14195 58167 131 1 14531 5991 1540...\n",
      "DEBUG:llama_index.core.node_parser.node_utils:> Adding chunk: 17945 57152 48 0 14215 -22393 15406 621158 6841...\n",
      "DEBUG:llama_index.core.node_parser.node_utils:> Adding chunk: 4114 50374 141 0 11757 -27455 15406 613860 7236...\n",
      "DEBUG:llama_index.core.node_parser.node_utils:> Adding chunk: 56902 126 1 10966 -12137 40 620860 79696 538042...\n",
      "DEBUG:llama_index.core.node_parser.node_utils:> Adding chunk: 619544 83953 532987 2604 619544\n",
      "2023-02-22 00:0...\n",
      "DEBUG:llama_index.core.node_parser.node_utils:> Adding chunk: 00:00:00 101589 401822 1410 96808 2025 1 19704 ...\n",
      "DEBUG:llama_index.core.node_parser.node_utils:> Adding chunk: 202 0 20534 -17234 40 559544 99627 457088 2829 ...\n",
      "DEBUG:llama_index.core.node_parser.node_utils:> Adding chunk: 436768 2490 534722\n",
      "2024-01-10 00:00:00 102331 3...\n",
      "DEBUG:llama_index.core.node_parser.node_utils:> Adding chunk: 00:00:00 101671 336119 1806 60972 48 0 15006 -1...\n",
      "DEBUG:llama_index.core.node_parser.node_utils:> Adding chunk: 87981 2071 1 14942 -15024 40 436992 103275 3308...\n",
      "DEBUG:llama_index.core.node_parser.node_utils:> Adding chunk: Liabilities and Equity:\n",
      "Prior to July 1996 the ...\n",
      "DEBUG:llama_index.core.node_parser.node_utils:> Adding chunk: The Medicare levy is a payment Australian taxpa...\n",
      "DEBUG:llama_index.core.node_parser.node_utils:> Adding chunk: Once upon a time there was a village that had a...\n",
      "DEBUG:urllib3.connectionpool:https://us.i.posthog.com:443 \"POST /batch/ HTTP/11\" 200 15\n"
     ]
    },
    {
     "data": {
      "application/vnd.jupyter.widget-view+json": {
       "model_id": "053826a4659943b39328d6d97037f396",
       "version_major": 2,
       "version_minor": 0
      },
      "text/plain": [
       "Batches:   0%|          | 0/1 [00:00<?, ?it/s]"
      ]
     },
     "metadata": {},
     "output_type": "display_data"
    },
    {
     "data": {
      "application/vnd.jupyter.widget-view+json": {
       "model_id": "e6f70143587f4b86913927f2367ec16e",
       "version_major": 2,
       "version_minor": 0
      },
      "text/plain": [
       "Batches:   0%|          | 0/1 [00:00<?, ?it/s]"
      ]
     },
     "metadata": {},
     "output_type": "display_data"
    },
    {
     "data": {
      "application/vnd.jupyter.widget-view+json": {
       "model_id": "1a6b48e299e84872a79e708cef71a83e",
       "version_major": 2,
       "version_minor": 0
      },
      "text/plain": [
       "Batches:   0%|          | 0/1 [00:00<?, ?it/s]"
      ]
     },
     "metadata": {},
     "output_type": "display_data"
    },
    {
     "data": {
      "application/vnd.jupyter.widget-view+json": {
       "model_id": "202e90df28ad4c80aa6156fc7cd4204a",
       "version_major": 2,
       "version_minor": 0
      },
      "text/plain": [
       "Batches:   0%|          | 0/1 [00:00<?, ?it/s]"
      ]
     },
     "metadata": {},
     "output_type": "display_data"
    },
    {
     "data": {
      "application/vnd.jupyter.widget-view+json": {
       "model_id": "789ea2fba4ad48f6ae3b8e83af1b8898",
       "version_major": 2,
       "version_minor": 0
      },
      "text/plain": [
       "Batches:   0%|          | 0/1 [00:00<?, ?it/s]"
      ]
     },
     "metadata": {},
     "output_type": "display_data"
    },
    {
     "data": {
      "application/vnd.jupyter.widget-view+json": {
       "model_id": "8bb64c95bb2a4383b190724d759ca36a",
       "version_major": 2,
       "version_minor": 0
      },
      "text/plain": [
       "Batches:   0%|          | 0/1 [00:00<?, ?it/s]"
      ]
     },
     "metadata": {},
     "output_type": "display_data"
    },
    {
     "data": {
      "application/vnd.jupyter.widget-view+json": {
       "model_id": "d7b737eeda4340cab578b329f9edc54b",
       "version_major": 2,
       "version_minor": 0
      },
      "text/plain": [
       "Batches:   0%|          | 0/1 [00:00<?, ?it/s]"
      ]
     },
     "metadata": {},
     "output_type": "display_data"
    },
    {
     "data": {
      "application/vnd.jupyter.widget-view+json": {
       "model_id": "3348eac5a4a445159809b990f961b45b",
       "version_major": 2,
       "version_minor": 0
      },
      "text/plain": [
       "Batches:   0%|          | 0/1 [00:00<?, ?it/s]"
      ]
     },
     "metadata": {},
     "output_type": "display_data"
    },
    {
     "data": {
      "application/vnd.jupyter.widget-view+json": {
       "model_id": "018260d1e03c4a6680f4f4c77a1be339",
       "version_major": 2,
       "version_minor": 0
      },
      "text/plain": [
       "Batches:   0%|          | 0/1 [00:00<?, ?it/s]"
      ]
     },
     "metadata": {},
     "output_type": "display_data"
    },
    {
     "data": {
      "application/vnd.jupyter.widget-view+json": {
       "model_id": "cd9ca7d2eabe4457a50e67cf32da44be",
       "version_major": 2,
       "version_minor": 0
      },
      "text/plain": [
       "Batches:   0%|          | 0/1 [00:00<?, ?it/s]"
      ]
     },
     "metadata": {},
     "output_type": "display_data"
    },
    {
     "data": {
      "application/vnd.jupyter.widget-view+json": {
       "model_id": "aac9cb37238e40ee8c41f11873916723",
       "version_major": 2,
       "version_minor": 0
      },
      "text/plain": [
       "Batches:   0%|          | 0/1 [00:00<?, ?it/s]"
      ]
     },
     "metadata": {},
     "output_type": "display_data"
    },
    {
     "data": {
      "application/vnd.jupyter.widget-view+json": {
       "model_id": "69db2a73c9754e97bf151f2cfcea0849",
       "version_major": 2,
       "version_minor": 0
      },
      "text/plain": [
       "Batches:   0%|          | 0/1 [00:00<?, ?it/s]"
      ]
     },
     "metadata": {},
     "output_type": "display_data"
    },
    {
     "data": {
      "application/vnd.jupyter.widget-view+json": {
       "model_id": "0a3757203e2c43ca864ad2db201bb60e",
       "version_major": 2,
       "version_minor": 0
      },
      "text/plain": [
       "Batches:   0%|          | 0/1 [00:00<?, ?it/s]"
      ]
     },
     "metadata": {},
     "output_type": "display_data"
    },
    {
     "data": {
      "application/vnd.jupyter.widget-view+json": {
       "model_id": "252c2d484add4398b7d62dfaecbd3a84",
       "version_major": 2,
       "version_minor": 0
      },
      "text/plain": [
       "Batches:   0%|          | 0/1 [00:00<?, ?it/s]"
      ]
     },
     "metadata": {},
     "output_type": "display_data"
    },
    {
     "data": {
      "application/vnd.jupyter.widget-view+json": {
       "model_id": "83d5f7fea33e44edb382b8f551dd5f90",
       "version_major": 2,
       "version_minor": 0
      },
      "text/plain": [
       "Batches:   0%|          | 0/1 [00:00<?, ?it/s]"
      ]
     },
     "metadata": {},
     "output_type": "display_data"
    },
    {
     "data": {
      "application/vnd.jupyter.widget-view+json": {
       "model_id": "96890f01839b4e4f883130e3b5c1cac4",
       "version_major": 2,
       "version_minor": 0
      },
      "text/plain": [
       "Batches:   0%|          | 0/1 [00:00<?, ?it/s]"
      ]
     },
     "metadata": {},
     "output_type": "display_data"
    },
    {
     "data": {
      "application/vnd.jupyter.widget-view+json": {
       "model_id": "9fb26de3b6064eeabf29f0b64874ee9c",
       "version_major": 2,
       "version_minor": 0
      },
      "text/plain": [
       "Batches:   0%|          | 0/1 [00:00<?, ?it/s]"
      ]
     },
     "metadata": {},
     "output_type": "display_data"
    },
    {
     "data": {
      "application/vnd.jupyter.widget-view+json": {
       "model_id": "af7021d4dfa04c91b226e2c7c7000b88",
       "version_major": 2,
       "version_minor": 0
      },
      "text/plain": [
       "Batches:   0%|          | 0/1 [00:00<?, ?it/s]"
      ]
     },
     "metadata": {},
     "output_type": "display_data"
    },
    {
     "data": {
      "application/vnd.jupyter.widget-view+json": {
       "model_id": "87d0cefcd83f4d0fbba0eeb6678372e3",
       "version_major": 2,
       "version_minor": 0
      },
      "text/plain": [
       "Batches:   0%|          | 0/1 [00:00<?, ?it/s]"
      ]
     },
     "metadata": {},
     "output_type": "display_data"
    },
    {
     "data": {
      "application/vnd.jupyter.widget-view+json": {
       "model_id": "ce5b818cfee1455ca8bedffad75c784b",
       "version_major": 2,
       "version_minor": 0
      },
      "text/plain": [
       "Batches:   0%|          | 0/1 [00:00<?, ?it/s]"
      ]
     },
     "metadata": {},
     "output_type": "display_data"
    },
    {
     "data": {
      "application/vnd.jupyter.widget-view+json": {
       "model_id": "2469e9f5ee5b4e7093d32d1c48e3bee8",
       "version_major": 2,
       "version_minor": 0
      },
      "text/plain": [
       "Batches:   0%|          | 0/1 [00:00<?, ?it/s]"
      ]
     },
     "metadata": {},
     "output_type": "display_data"
    },
    {
     "data": {
      "application/vnd.jupyter.widget-view+json": {
       "model_id": "16bf75c4d6bf4207bd12036f44bc900b",
       "version_major": 2,
       "version_minor": 0
      },
      "text/plain": [
       "Batches:   0%|          | 0/1 [00:00<?, ?it/s]"
      ]
     },
     "metadata": {},
     "output_type": "display_data"
    },
    {
     "data": {
      "application/vnd.jupyter.widget-view+json": {
       "model_id": "8a4a92b8d17d4e68bd559db9235058ce",
       "version_major": 2,
       "version_minor": 0
      },
      "text/plain": [
       "Batches:   0%|          | 0/1 [00:00<?, ?it/s]"
      ]
     },
     "metadata": {},
     "output_type": "display_data"
    },
    {
     "data": {
      "application/vnd.jupyter.widget-view+json": {
       "model_id": "a35c7a7fc4b84da2aa78f0387f0e27bf",
       "version_major": 2,
       "version_minor": 0
      },
      "text/plain": [
       "Batches:   0%|          | 0/1 [00:00<?, ?it/s]"
      ]
     },
     "metadata": {},
     "output_type": "display_data"
    },
    {
     "data": {
      "application/vnd.jupyter.widget-view+json": {
       "model_id": "81da3f6c9a714d3890ef2e4ef729ae3b",
       "version_major": 2,
       "version_minor": 0
      },
      "text/plain": [
       "Batches:   0%|          | 0/1 [00:00<?, ?it/s]"
      ]
     },
     "metadata": {},
     "output_type": "display_data"
    },
    {
     "data": {
      "application/vnd.jupyter.widget-view+json": {
       "model_id": "7023db39a41d41648076b79804cccee0",
       "version_major": 2,
       "version_minor": 0
      },
      "text/plain": [
       "Batches:   0%|          | 0/1 [00:00<?, ?it/s]"
      ]
     },
     "metadata": {},
     "output_type": "display_data"
    },
    {
     "data": {
      "application/vnd.jupyter.widget-view+json": {
       "model_id": "b244b2b6c398489a902dfc70a36aeafc",
       "version_major": 2,
       "version_minor": 0
      },
      "text/plain": [
       "Batches:   0%|          | 0/1 [00:00<?, ?it/s]"
      ]
     },
     "metadata": {},
     "output_type": "display_data"
    },
    {
     "data": {
      "application/vnd.jupyter.widget-view+json": {
       "model_id": "63459a57baa24e728d37219e5c679ee8",
       "version_major": 2,
       "version_minor": 0
      },
      "text/plain": [
       "Batches:   0%|          | 0/1 [00:00<?, ?it/s]"
      ]
     },
     "metadata": {},
     "output_type": "display_data"
    },
    {
     "data": {
      "application/vnd.jupyter.widget-view+json": {
       "model_id": "a833c7ef2f144c06a2d2fddc1a7331bf",
       "version_major": 2,
       "version_minor": 0
      },
      "text/plain": [
       "Batches:   0%|          | 0/1 [00:00<?, ?it/s]"
      ]
     },
     "metadata": {},
     "output_type": "display_data"
    },
    {
     "data": {
      "application/vnd.jupyter.widget-view+json": {
       "model_id": "6d4d5e38638540948ba8bfdef6fd7d75",
       "version_major": 2,
       "version_minor": 0
      },
      "text/plain": [
       "Batches:   0%|          | 0/1 [00:00<?, ?it/s]"
      ]
     },
     "metadata": {},
     "output_type": "display_data"
    },
    {
     "data": {
      "application/vnd.jupyter.widget-view+json": {
       "model_id": "b6fd434173a74930a24424e5b5e909b3",
       "version_major": 2,
       "version_minor": 0
      },
      "text/plain": [
       "Batches:   0%|          | 0/1 [00:00<?, ?it/s]"
      ]
     },
     "metadata": {},
     "output_type": "display_data"
    },
    {
     "data": {
      "application/vnd.jupyter.widget-view+json": {
       "model_id": "e16184bf70ee4a729f111cc09dfbd0db",
       "version_major": 2,
       "version_minor": 0
      },
      "text/plain": [
       "Batches:   0%|          | 0/1 [00:00<?, ?it/s]"
      ]
     },
     "metadata": {},
     "output_type": "display_data"
    },
    {
     "data": {
      "application/vnd.jupyter.widget-view+json": {
       "model_id": "6bfa9fe4ff96493e842c40ae8c703cc9",
       "version_major": 2,
       "version_minor": 0
      },
      "text/plain": [
       "Batches:   0%|          | 0/1 [00:00<?, ?it/s]"
      ]
     },
     "metadata": {},
     "output_type": "display_data"
    },
    {
     "data": {
      "application/vnd.jupyter.widget-view+json": {
       "model_id": "b27e6bee98484e5fa7fa2eef0ab2fab1",
       "version_major": 2,
       "version_minor": 0
      },
      "text/plain": [
       "Batches:   0%|          | 0/1 [00:00<?, ?it/s]"
      ]
     },
     "metadata": {},
     "output_type": "display_data"
    },
    {
     "data": {
      "application/vnd.jupyter.widget-view+json": {
       "model_id": "1fda5291216344dd899369f94440b4e3",
       "version_major": 2,
       "version_minor": 0
      },
      "text/plain": [
       "Batches:   0%|          | 0/1 [00:00<?, ?it/s]"
      ]
     },
     "metadata": {},
     "output_type": "display_data"
    },
    {
     "name": "stderr",
     "output_type": "stream",
     "text": [
      "DEBUG:chromadb.config:Starting component PersistentLocalHnswSegment\n"
     ]
    },
    {
     "name": "stdout",
     "output_type": "stream",
     "text": [
      "Document count after initial load: 678\n"
     ]
    }
   ],
   "source": [
    "# Step 2: Set up ChromaVectorStore and load in data\n",
    "vector_store = ChromaVectorStore(chroma_collection=chroma_collection)\n",
    "storage_context = StorageContext.from_defaults(vector_store=vector_store)\n",
    "index = VectorStoreIndex.from_documents(\n",
    "    documents, storage_context=storage_context, embed_model=embed_model\n",
    ")\n",
    "\n",
    "# Verify that documents were added\n",
    "print(\"Document count after initial load:\", chroma_collection.count())\n"
   ]
  },
  {
   "cell_type": "code",
   "execution_count": 4,
   "metadata": {},
   "outputs": [
    {
     "name": "stderr",
     "output_type": "stream",
     "text": [
      "DEBUG:httpx:load_ssl_context verify=True cert=None trust_env=True http2=False\n",
      "DEBUG:httpx:load_verify_locations cafile='C:\\\\Users\\\\sumit\\\\.conda\\\\envs\\\\llm\\\\Library\\\\ssl\\\\cacert.pem'\n",
      "DEBUG:urllib3.connectionpool:Resetting dropped connection: us.i.posthog.com\n"
     ]
    },
    {
     "data": {
      "application/vnd.jupyter.widget-view+json": {
       "model_id": "8b4ca51f71004184a64eae66eeea8d26",
       "version_major": 2,
       "version_minor": 0
      },
      "text/plain": [
       "Batches:   0%|          | 0/1 [00:00<?, ?it/s]"
      ]
     },
     "metadata": {},
     "output_type": "display_data"
    },
    {
     "name": "stderr",
     "output_type": "stream",
     "text": [
      "DEBUG:llama_index.vector_stores.chroma.base:> Top 2 nodes:\n",
      "DEBUG:llama_index.vector_stores.chroma.base:> [Node 813cac0e-0279-426a-862d-d65e4f94d23a] [Similarity score: 0.414281044187905] carer responsibilities or a disability, you should discuss ways your\n",
      "employer can support you. To...\n",
      "DEBUG:llama_index.vector_stores.chroma.base:> [Node f29e7124-3fd0-41a0-8092-f5b174911500] [Similarity score: 0.414281044187905] carer responsibilities or a disability, you should discuss ways your\n",
      "employer can support you. To...\n",
      "DEBUG:llama_index.core.indices.utils:> Top 2 nodes:\n",
      "> [Node 813cac0e-0279-426a-862d-d65e4f94d23a] [Similarity score:             0.414281] carer responsibilities or a disability, you should discuss ways your\n",
      "employer can support you. To...\n",
      "> [Node f29e7124-3fd0-41a0-8092-f5b174911500] [Similarity score:             0.414281] carer responsibilities or a disability, you should discuss ways your\n",
      "employer can support you. To...\n",
      "DEBUG:httpx:load_ssl_context verify=True cert=None trust_env=True http2=False\n",
      "DEBUG:httpx:load_verify_locations cafile='C:\\\\Users\\\\sumit\\\\.conda\\\\envs\\\\llm\\\\Library\\\\ssl\\\\cacert.pem'\n",
      "DEBUG:httpcore.connection:connect_tcp.started host='localhost' port=11434 local_address=None timeout=360.0 socket_options=None\n",
      "DEBUG:urllib3.connectionpool:https://us.i.posthog.com:443 \"POST /batch/ HTTP/11\" 200 15\n",
      "DEBUG:urllib3.connectionpool:https://us.i.posthog.com:443 \"POST /batch/ HTTP/11\" 200 15\n",
      "DEBUG:httpcore.connection:connect_tcp.complete return_value=<httpcore._backends.sync.SyncStream object at 0x0000018188AE82C0>\n",
      "DEBUG:httpcore.http11:send_request_headers.started request=<Request [b'POST']>\n",
      "DEBUG:httpcore.http11:send_request_headers.complete\n",
      "DEBUG:httpcore.http11:send_request_body.started request=<Request [b'POST']>\n",
      "DEBUG:httpcore.http11:send_request_body.complete\n",
      "DEBUG:httpcore.http11:receive_response_headers.started request=<Request [b'POST']>\n",
      "DEBUG:httpcore.http11:receive_response_headers.complete return_value=(b'HTTP/1.1', 200, b'OK', [(b'Content-Type', b'application/json; charset=utf-8'), (b'Date', b'Thu, 14 Nov 2024 04:03:37 GMT'), (b'Content-Length', b'1001')])\n",
      "INFO:httpx:HTTP Request: POST http://localhost:11434/api/chat \"HTTP/1.1 200 OK\"\n",
      "DEBUG:httpcore.http11:receive_response_body.started request=<Request [b'POST']>\n",
      "DEBUG:httpcore.http11:receive_response_body.complete\n",
      "DEBUG:httpcore.http11:response_closed.started\n",
      "DEBUG:httpcore.http11:response_closed.complete\n"
     ]
    },
    {
     "data": {
      "text/markdown": [
       "<b>To start saving money, consider exploring ways to reduce expenses or increase income. One option is to review your budget to identify areas where you can cut back on unnecessary spending. You might also think about finding additional sources of income, such as taking on a side job or selling items you no longer need.\n",
       "\n",
       "You could also try implementing cost-saving strategies like cooking at home instead of eating out, canceling subscription services you don't use, and shopping around for deals on everyday items.\n",
       "\n",
       "It may be helpful to set up automatic transfers from your checking account to a dedicated savings account, so you can prioritize saving over other financial obligations.</b>"
      ],
      "text/plain": [
       "<IPython.core.display.Markdown object>"
      ]
     },
     "metadata": {},
     "output_type": "display_data"
    }
   ],
   "source": [
    "# Step 3: Query data\n",
    "from llama_index.llms.ollama import Ollama\n",
    "query_engine = index.as_query_engine(llm=Ollama(model=\"llama3.2:1b-instruct-fp16\", request_timeout=360.0))\n",
    "response = query_engine.query(\"How to save money?\")\n",
    "display(Markdown(f\"<b>{response}</b>\"))"
   ]
  }
 ],
 "metadata": {
  "kernelspec": {
   "display_name": "llm",
   "language": "python",
   "name": "python3"
  },
  "language_info": {
   "codemirror_mode": {
    "name": "ipython",
    "version": 3
   },
   "file_extension": ".py",
   "mimetype": "text/x-python",
   "name": "python",
   "nbconvert_exporter": "python",
   "pygments_lexer": "ipython3",
   "version": "3.12.7"
  }
 },
 "nbformat": 4,
 "nbformat_minor": 2
}
