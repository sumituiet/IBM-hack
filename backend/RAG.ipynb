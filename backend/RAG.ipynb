{
 "cells": [
  {
   "cell_type": "code",
   "execution_count": null,
   "metadata": {},
   "outputs": [],
   "source": [
    "from llama_index.core import VectorStoreIndex, SimpleDirectoryReader, Settings\n",
    "from llama_index.embeddings.huggingface import HuggingFaceEmbedding\n",
    "from llama_index.llms.ollama import Ollama\n",
    "\n",
    "documents = SimpleDirectoryReader(\"dataset\").load_data()\n",
    "\n",
    "# bge-base embedding model\n",
    "Settings.embed_model = HuggingFaceEmbedding(model_name=\"BAAI/bge-base-en-v1.5\")\n",
    "\n",
    "# ollama\n",
    "Settings.llm = Ollama(model=\"llama3.2:1b\", request_timeout=360.0)\n",
    "\n",
    "index = VectorStoreIndex.from_documents(\n",
    "    documents,\n",
    ")"
   ]
  },
  {
   "cell_type": "code",
   "execution_count": 5,
   "metadata": {},
   "outputs": [
    {
     "name": "stdout",
     "output_type": "stream",
     "text": [
      "To effectively connect with youth for financial literacy, it's essential to leverage various channels that resonate with their digital habits. Here are some strategies:\n",
      "\n",
      "1. **Social Media**: Utilize platforms popular among young people, such as TikTok, Instagram, and Snapchat. Create engaging content, like videos or infographics, that highlight simple financial concepts and real-life examples.\n",
      "2. **Mobile Apps**: Develop or partner with existing apps that cater to the needs of youth, such as budgeting tools, savings trackers, or personal finance management platforms.\n",
      "3. **Gamification**: Design interactive games or quizzes that teach financial literacy in a fun and competitive manner. This can be done through online platforms like Duolingo, Roblox, or even virtual reality experiences.\n",
      "4. **Influencer Partnerships**: Collaborate with social media influencers or content creators who have a large following among youth. They can share their own experiences, tips, or success stories related to financial literacy.\n",
      "5. **Community Events**: Organize workshops, webinars, or meetups focused on financial literacy in areas popular with young people, such as universities, colleges, or community centers.\n",
      "6. **Digital Citizenship Programs**: Develop programs that teach digital citizenship and online safety, emphasizing the importance of responsible financial behavior online.\n",
      "7. **Real-Life Scenarios**: Use relatable scenarios or case studies to illustrate complex financial concepts, making them more accessible and engaging for youth.\n",
      "8. **Online Forums and Discussions**: Create online forums or discussion groups where young people can ask questions, share experiences, and learn from one another about financial literacy.\n",
      "9. **Virtual Reality Experiences**: Utilize VR technology to create immersive, interactive experiences that teach financial literacy concepts in an engaging manner.\n",
      "10. **Content Marketing**: Produce high-quality content (blog posts, videos, podcasts) that addresses the specific needs and interests of young people, focusing on topics like budgeting, saving, or investing.\n",
      "\n",
      "By incorporating these strategies into your approach, you can effectively connect with youth for financial literacy and empower them to make informed financial decisions.\n"
     ]
    }
   ],
   "source": [
    "query_engine = index.as_query_engine()\n",
    "response = query_engine.query(\"How we can connect to youth for financial literacy?\")\n",
    "print(response)"
   ]
  },
  {
   "cell_type": "code",
   "execution_count": null,
   "metadata": {},
   "outputs": [],
   "source": []
  }
 ],
 "metadata": {
  "kernelspec": {
   "display_name": "llm",
   "language": "python",
   "name": "python3"
  },
  "language_info": {
   "codemirror_mode": {
    "name": "ipython",
    "version": 3
   },
   "file_extension": ".py",
   "mimetype": "text/x-python",
   "name": "python",
   "nbconvert_exporter": "python",
   "pygments_lexer": "ipython3",
   "version": "3.12.7"
  }
 },
 "nbformat": 4,
 "nbformat_minor": 2
}
